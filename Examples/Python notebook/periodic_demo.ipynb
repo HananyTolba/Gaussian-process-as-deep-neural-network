{
 "cells": [
  {
   "cell_type": "code",
   "execution_count": 1,
   "metadata": {},
   "outputs": [
    {
     "name": "stdout",
     "output_type": "stream",
     "text": [
      "WARNING:tensorflow:No training configuration found in save file: the model was *not* compiled. Compile it manually.\n"
     ]
    }
   ],
   "source": [
    "import gpasdnn"
   ]
  },
  {
   "cell_type": "code",
   "execution_count": 2,
   "metadata": {},
   "outputs": [],
   "source": [
    "def func(a: int = 1 , b: int = 2) -> int:\n",
    "    return \"The sum of {} and {} is {}\".format(a,b,a+b)"
   ]
  },
  {
   "cell_type": "code",
   "execution_count": 3,
   "metadata": {},
   "outputs": [
    {
     "data": {
      "text/plain": [
       "{'a': int, 'b': int, 'return': int}"
      ]
     },
     "execution_count": 3,
     "metadata": {},
     "output_type": "execute_result"
    }
   ],
   "source": [
    "func.__annotations__"
   ]
  },
  {
   "cell_type": "code",
   "execution_count": 4,
   "metadata": {},
   "outputs": [
    {
     "data": {
      "text/plain": [
       "'The sum of 3 and 6 is 9'"
      ]
     },
     "execution_count": 4,
     "metadata": {},
     "output_type": "execute_result"
    }
   ],
   "source": [
    "func(3,6)"
   ]
  },
  {
   "cell_type": "code",
   "execution_count": 5,
   "metadata": {},
   "outputs": [],
   "source": [
    "from gpasdnn.gp import GaussianProcessRegressor as GPR\n",
    "from gpasdnn.kernels import *"
   ]
  },
  {
   "cell_type": "code",
   "execution_count": 6,
   "metadata": {},
   "outputs": [
    {
     "data": {
      "text/plain": [
       "{'A': 'numpy array', 'x': 'numpy vector', 'r': float, 'return': 'numpy array'}"
      ]
     },
     "execution_count": 6,
     "metadata": {},
     "output_type": "execute_result"
    }
   ],
   "source": [
    "gpasdnn.invtools.inv_col_add_update.__annotations__"
   ]
  },
  {
   "cell_type": "code",
   "execution_count": null,
   "metadata": {},
   "outputs": [],
   "source": []
  },
  {
   "cell_type": "code",
   "execution_count": 7,
   "metadata": {},
   "outputs": [],
   "source": [
    "import numpy as np\n",
    "import pandas as pd\n",
    "import matplotlib.pyplot as plt\n",
    "m = 1500\n",
    "x = np.linspace(0,8,m)\n",
    "kernel = RBF() + Periodic()\n",
    "y = kernel.simulate(x,seed=np.random.seed(2))\n",
    "#y = np.sin(3*x)*np.sin(x)\n",
    "y_noisy = y + .1*np.random.randn(x.size)\n",
    "#y_noisy = 100000 + y_noisy*10000\n",
    "train_size = int(.7*x.size)\n",
    "\n",
    "(xtrain, ytrain) = x[:train_size],y_noisy[:train_size]\n",
    "(xtest, ytest) = x[train_size:],y_noisy[train_size:]"
   ]
  },
  {
   "cell_type": "code",
   "execution_count": 14,
   "metadata": {},
   "outputs": [
    {
     "name": "stdout",
     "output_type": "stream",
     "text": [
      "RBF + Polynomial x RBF\n"
     ]
    }
   ],
   "source": [
    "names = (RBF() + Polynomial()*RBF()).recursive_str_list()\n",
    "if isinstance(names, list):\n",
    "    print(' + '.join(names))\n",
    "else:\n",
    "    print(names)"
   ]
  },
  {
   "cell_type": "code",
   "execution_count": null,
   "metadata": {},
   "outputs": [],
   "source": [
    "plt.figure(figsize=(10,5),fontsize=12)"
   ]
  },
  {
   "cell_type": "code",
   "execution_count": null,
   "metadata": {},
   "outputs": [],
   "source": [
    "plt.figure(figsize=(10,5))\n",
    "plt.plot(xtrain,ytrain,'k.')\n",
    "plt.plot(xtest, ytest,'bo')\n",
    "plt.plot(x,y,'r--',lw=3)\n",
    "plt.show()"
   ]
  },
  {
   "cell_type": "code",
   "execution_count": null,
   "metadata": {},
   "outputs": [],
   "source": [
    "gpr = GPR(xtrain,ytrain)\n",
    "#gpr.kernel_choice = \"\"\n",
    "gpr.fit()\n"
   ]
  },
  {
   "cell_type": "code",
   "execution_count": null,
   "metadata": {},
   "outputs": [],
   "source": [
    "#xs = np.linspace(0,7,1000)\n",
    "yp,_ = gpr.predict(x)"
   ]
  },
  {
   "cell_type": "code",
   "execution_count": null,
   "metadata": {},
   "outputs": [],
   "source": [
    "plt.figure(figsize=(10,5))\n",
    "plt.plot(xtrain,ytrain,'ok')\n",
    "#plt.plot(x,y,'b',lw=3)\n",
    "plt.plot(x,yp,'r',lw=3)\n",
    "\n",
    "plt.show()"
   ]
  },
  {
   "cell_type": "code",
   "execution_count": null,
   "metadata": {},
   "outputs": [],
   "source": []
  },
  {
   "cell_type": "code",
   "execution_count": null,
   "metadata": {},
   "outputs": [],
   "source": []
  },
  {
   "cell_type": "code",
   "execution_count": null,
   "metadata": {},
   "outputs": [],
   "source": []
  },
  {
   "cell_type": "code",
   "execution_count": null,
   "metadata": {},
   "outputs": [],
   "source": []
  },
  {
   "cell_type": "code",
   "execution_count": null,
   "metadata": {},
   "outputs": [],
   "source": []
  },
  {
   "cell_type": "code",
   "execution_count": null,
   "metadata": {},
   "outputs": [],
   "source": []
  },
  {
   "cell_type": "code",
   "execution_count": null,
   "metadata": {},
   "outputs": [],
   "source": []
  },
  {
   "cell_type": "code",
   "execution_count": null,
   "metadata": {},
   "outputs": [],
   "source": [
    "kernelExpression = \" Matern52  + Periodic*RBF   + RBF * Matern32*Linear + Periodic\"\n",
    "list_kernel = kernelExpression.replace(\" \", \"\").split(\"+\")\n",
    "#print(list_kernel)\n",
    "list_kernel = [x.replace(\" \", \"\").split(\"*\") if '*' in x else x for x in list_kernel]\n",
    "list_kernel\n",
    "\n",
    "import importlib\n",
    "module_ = importlib.import_module(\"gpasdlm.kernels\")\n",
    "\n",
    "kernels = []\n",
    "for ker_name in list_kernel:\n",
    "    if isinstance(ker_name,list):\n",
    "        prod_kernel_list = []\n",
    "        for k in ker_name:\n",
    "            class_ = getattr(module_, k)\n",
    "            instance = class_()\n",
    "            prod_kernel_list.append(instance)\n",
    "        prod_kernel = np.prod(prod_kernel_list)\n",
    "        #print(prod_kernel.label())\n",
    "        kernels.append(prod_kernel)\n",
    "            \n",
    "    else:\n",
    "        class_ = getattr(module_, ker_name)\n",
    "        instance = class_()\n",
    "        #print(instance.__class__.__name__)\n",
    "\n",
    "        kernels.append(instance)\n",
    "ker = sum(kernels)\n",
    "print(ker)\n",
    "ker"
   ]
  },
  {
   "cell_type": "code",
   "execution_count": null,
   "metadata": {},
   "outputs": [],
   "source": [
    "yker = ker.simulate(x)\n",
    "plt.plot(x,yker)"
   ]
  },
  {
   "cell_type": "code",
   "execution_count": null,
   "metadata": {},
   "outputs": [],
   "source": [
    "K = RBF()*RBF() + Periodic()\n",
    "K.__class__.__name__"
   ]
  },
  {
   "cell_type": "code",
   "execution_count": null,
   "metadata": {},
   "outputs": [],
   "source": [
    "y = RBF(length_scale=.5).simulate2d(x)\n",
    "fig = plt.figure(figsize=(10,5) )\n",
    "plt.imshow(y,cmap='jet')\n",
    "plt.show()"
   ]
  },
  {
   "cell_type": "code",
   "execution_count": null,
   "metadata": {},
   "outputs": [],
   "source": [
    "Y = RBF().simulate3d(x,time = np.linspace(0,3,50),time_kernel=Periodic(length_scale=1) + RBF())\n",
    "#Y = Y + .5*np.random.randn(*Y.shape)# noise\n",
    "print(Y.shape)"
   ]
  },
  {
   "cell_type": "code",
   "execution_count": null,
   "metadata": {},
   "outputs": [],
   "source": [
    "\n",
    "import time\n",
    "from IPython.display import clear_output\n",
    "\n",
    "for i in range(Y.shape[2]):\n",
    "    clear_output(wait=True)\n",
    "    fig = plt.figure(figsize=(8,5) )\n",
    "    plt.imshow(Y[:,:,i],cmap =\"jet\",vmin=Y.min(),vmax=Y.max())\n",
    "    plt.title(\"Gaussian Process 3d simulation (spatiotemporal)\")\n",
    "    plt.colorbar()\n",
    "    plt.clim(vmin=-3,vmax=3)\n",
    "\n",
    "    plt.show() \n",
    "    time.sleep(0.01)"
   ]
  },
  {
   "cell_type": "code",
   "execution_count": null,
   "metadata": {},
   "outputs": [],
   "source": []
  }
 ],
 "metadata": {
  "kernelspec": {
   "display_name": "Python 3",
   "language": "python",
   "name": "python3"
  },
  "language_info": {
   "codemirror_mode": {
    "name": "ipython",
    "version": 3
   },
   "file_extension": ".py",
   "mimetype": "text/x-python",
   "name": "python",
   "nbconvert_exporter": "python",
   "pygments_lexer": "ipython3",
   "version": "3.6.10"
  }
 },
 "nbformat": 4,
 "nbformat_minor": 4
}
